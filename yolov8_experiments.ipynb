{
 "cells": [
  {
   "cell_type": "code",
   "execution_count": null,
   "metadata": {},
   "outputs": [],
   "source": [
    "from ultralytics.utils.benchmarks import benchmark\n",
    "\n",
    "# Benchmark on GPU\n",
    "benchmark(\n",
    "    model=\"/media/yura/edbf3aee-91a2-4ee8-98ca-fb2ac8d9fc21/processing_gan/processing_and_generating_images_course/runs/detect/yolov8n_custom_params/weights/last.pt\",\n",
    "    data=\"/media/yura/edbf3aee-91a2-4ee8-98ca-fb2ac8d9fc21/processing_gan/processing_and_generating_images_course/CSGO-TRAIN-YOLO-V5-5/data.yaml\",\n",
    "    imgsz=640,\n",
    "    half=False,\n",
    "    device=0,\n",
    ")\n",
    "\n",
    "benchmark(\n",
    "    model=\"/media/yura/edbf3aee-91a2-4ee8-98ca-fb2ac8d9fc21/processing_gan/processing_and_generating_images_course/runs/detect/runs/detect/yolov8n_default_params/weights/last.pt\",\n",
    "    data=\"/media/yura/edbf3aee-91a2-4ee8-98ca-fb2ac8d9fc21/processing_gan/processing_and_generating_images_course/CSGO-TRAIN-YOLO-V5-5/data.yaml\",\n",
    "    imgsz=640,\n",
    "    half=False,\n",
    "    device=0,\n",
    ")"
   ]
  }
 ],
 "metadata": {
  "kernelspec": {
   "display_name": "Python 3",
   "language": "python",
   "name": "python3"
  },
  "language_info": {
   "codemirror_mode": {
    "name": "ipython",
    "version": 3
   },
   "file_extension": ".py",
   "mimetype": "text/x-python",
   "name": "python",
   "nbconvert_exporter": "python",
   "pygments_lexer": "ipython3",
   "version": "3.10.12"
  }
 },
 "nbformat": 4,
 "nbformat_minor": 5
}
